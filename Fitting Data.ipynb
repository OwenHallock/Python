{
 "cells": [
  {
   "cell_type": "markdown",
   "metadata": {},
   "source": [
    "Physics 474 - Fall 2022\n",
    "\n",
    "Homework 1 - fitting x,y data<br>\n",
    "The Stellar Lulinosity-Mass Relationship\n",
    "\n",
    "<font color='red'>Author: your name here\n",
    "    "
   ]
  },
  {
   "cell_type": "markdown",
   "metadata": {},
   "source": [
    "Fore this homework we will do a  basic $\\chi^2$ least-square fit and analysis of some data we are given. We will make observations as we go along, and finally make some conclusions on a physics problem.\n",
    "\n",
    "We will examine data of stellar luminosities versus mass, which is seen to generally observe a power law relationship on the order of:\n",
    "\n",
    "$\\; \\; \\; \\; \\frac{L}{L_\\odot} \\approx (\\frac{m}{m_\\odot})^4$\n",
    "\n",
    "where $L_\\odot$ and $m_\\odot$ are the standard solar luminosity and mass respectively.\n",
    "\n",
    "We will use a log10-log10 plot, so the power law,\n",
    "\n",
    "$\\; \\; \\; \\; \\frac{L}{L_\\odot} \\approx (\\frac{m}{m_\\odot})^4$\n",
    "\n",
    "would show as a straight line with slope $\\approx$4.0 on this log-log plot. <br>\n",
    "\n",
    "\n",
    "We will use data taken from 'Mass–luminosity relation of intermediate-mass stars', O. Yu. Malkov\n",
    "Monthly Notices of the Royal Astronomical Society, Volume 382, Issue 3,\n",
    "December 2007, Pages 1073–1086,\n",
    "https://doi.org/10.1111/j.1365-2966.2007.12086.x\n",
    "Published: 28 November 2007\n"
   ]
  },
  {
   "cell_type": "markdown",
   "metadata": {},
   "source": [
    "___________________________________________________________________________________\n",
    "The data are supplied in a comma-separated-variable (.csv) file, which is a text file\n",
    "that can be visualy inspected by clicking on the file in the jupyter browser. The filename is\n",
    "'lum-mass-data.csv' and needs to be downloaded from ELMS.\n",
    "\n",
    "The file shows the data for each of the stars as a single row,\n",
    "and the n measurements for each star are the columns separated by commas. The lines starting\n",
    "with a # are ignored by the reader.\n",
    "\n",
    "It can be read in and the data put in separate numpy arrays using the command\n",
    "\n",
    "array_1, array_2, ... array_n = np.loadtext(filename,delimter=',',unpack=True)\n",
    "\n",
    "where the n arrays match the number of columns, and length of each array is equal to the number\n",
    "of rows.\n",
    "\n",
    "\n",
    "\n",
    "PART 1:\n",
    "\n",
    "- Start by dowloading the file into your working directory and viewing the text file <br>\n",
    "- Then read in the file. Shown here since this may be new to you in python\n",
    "____________________________________________________________________________________"
   ]
  },
  {
   "cell_type": "code",
   "execution_count": 1,
   "metadata": {},
   "outputs": [
    {
     "name": "stdout",
     "output_type": "stream",
     "text": [
      "Number of data points =  197 197\n"
     ]
    }
   ],
   "source": [
    "#import modules we will use\n",
    "import numpy as np   #import numpy methods\n",
    "import matplotlib.pyplot as plt   #import plotting methods\n",
    "import scipy.stats as st   #needed for chi^2 probability later if we need it\n",
    "\n",
    "# read data from CSV data file and put into 6 arrays\n",
    "\"\"\"\n",
    "mass = stellar mass [units of solar mass]\n",
    "mass_er = error on stellar mass [solar mass]\n",
    "lum_log = log10(luminosity)    #not used in this script\n",
    "lum_log_er = error on lum_log  #not used in this script\n",
    "lum = stellar luminosity [units of solar luminosity]\n",
    "lum_er = error on luminosity [units of solar luminosity]\n",
    "\"\"\"\n",
    "filename = 'lum-mass-data.csv'\n",
    "mass, mass_er, lum_log, lum_log_er,lum, lum_er = np.loadtxt(filename, encoding='utf-8-sig', delimiter=',',unpack=True)\n",
    "\n",
    "#let's print the length(size) of the mass array to see how many data points we have\n",
    "print('Number of data points = ',np.size(mass), mass.size) \n",
    "#can access array size 2 ways, as numpy function or attribute of numpy object"
   ]
  },
  {
   "cell_type": "markdown",
   "metadata": {},
   "source": [
    "__________________________________________________________________\n",
    "Part 2: \n",
    "\n",
    "Make a quick plot of the data Luminosity vs Mass with errorbars\n",
    "\n",
    "- make the axes of the plot a log-log plot\n",
    "- label the axes\n",
    "- put a grid on the plot\n",
    "\n",
    "__________________________________________________________________"
   ]
  },
  {
   "cell_type": "code",
   "execution_count": 2,
   "metadata": {},
   "outputs": [
    {
     "data": {
      "text/plain": [
       "<function matplotlib.pyplot.show(close=None, block=None)>"
      ]
     },
     "execution_count": 2,
     "metadata": {},
     "output_type": "execute_result"
    },
    {
     "name": "stderr",
     "output_type": "stream",
     "text": [
      "D:\\anaconda\\lib\\site-packages\\matplotlib\\backends\\backend_agg.py:240: RuntimeWarning: Glyph 119898 missing from current font.\n",
      "  font.set_text(s, 0.0, flags=flags)\n",
      "D:\\anaconda\\lib\\site-packages\\matplotlib\\backends\\backend_agg.py:203: RuntimeWarning: Glyph 119898 missing from current font.\n",
      "  font.set_text(s, 0, flags=flags)\n"
     ]
    },
    {
     "data": {
      "image/png": "[encoded data removed]",
      "text/plain": [
       "<Figure size 432x288 with 1 Axes>"
      ]
     },
     "metadata": {
      "needs_background": "light"
     },
     "output_type": "display_data"
    }
   ],
   "source": [
    "\n",
    "plt.scatter(mass,lum,c='black',s=5)\n",
    "plt.xlabel('Mass (𝑚⊙)')\n",
    "plt.ylabel('Luminasity (W)')\n",
    "plt.grid()\n",
    "plt.yscale('log')\n",
    "plt.xscale('log')\n",
    "plt.show\n",
    "\n"
   ]
  },
  {
   "cell_type": "markdown",
   "metadata": {},
   "source": [
    "---------------------------------------------------------------------------------\n",
    "Okay!\n",
    "\n",
    "Looks like nice data... Can clearly see there is a relationship between stellar luminosy\n",
    "and stelar mass. It looks fairly linear on log-log plo. A straigt line with slope $\\alpha$ \n",
    "on this log-log plot would mean an equation\n",
    "\n",
    "$\\; \\; \\; \\; \\log \\left(\\frac{L}{L_\\odot}\\right)  =\n",
    "\\alpha \\log \\left(\\frac{m}{m_\\odot}\\right)\n",
    "= \\log \\left(\\frac{m}{m_\\odot}\\right)^\\alpha$\n",
    "\n",
    "or,\n",
    "\n",
    "$\\; \\; \\; \\; \\frac{L}{L_\\odot} = \\left(\\frac{m}{m_\\odot}\\right)^\\alpha$\n",
    "\n",
    "---------------------------------------------------------------------------------"
   ]
  },
  {
   "cell_type": "markdown",
   "metadata": {},
   "source": [
    "Part 3:\n",
    "\n",
    "Use the data points and errors given to fith the data for the power $\\alpha$ in the equation above.\n",
    "\n",
    "- Use scipy.optimize.curve_fit() to perform a $\\chi^2$ fit for the parameter $\\alpha$\n",
    "- Notice there are errors in x and y (i.e. $\\sigma_m$ and $\\sigma_L$). You will need to propogate the $\\sigma_m$ into $L$ and add in quadrature to $\\sigma_L$ to get $\\sigma_{Tot}$ to put in curve_fit. You can assume $\\alpha=4$ for this propogation, and you see now one of the limitations of using curve_fit, which calculates a simple $\\chi^2$, versus using the minimizer and defining your own $\\chi^2$ where you can vary the definition of $\\sigma_{tot}$ with variation in the parameter $\\alpha$.\n",
    "- Plot the Data points with errorbars along with the best fit curve as above, and also adding a legend\n",
    "- put text somewhere that shows the best fit $\\alpha$."
   ]
  },
  {
   "cell_type": "code",
   "execution_count": 81,
   "metadata": {},
   "outputs": [
    {
     "name": "stdout",
     "output_type": "stream",
     "text": [
      "[3.95368989]\n",
      "[[8.74189026e-05]]\n"
     ]
    },
    {
     "data": {
      "text/plain": [
       "[<matplotlib.lines.Line2D at 0x24932dc8070>]"
      ]
     },
     "execution_count": 81,
     "metadata": {},
     "output_type": "execute_result"
    },
    {
     "name": "stderr",
     "output_type": "stream",
     "text": [
      "D:\\anaconda\\lib\\site-packages\\matplotlib\\backends\\backend_agg.py:240: RuntimeWarning: Glyph 119898 missing from current font.\n",
      "  font.set_text(s, 0.0, flags=flags)\n",
      "D:\\anaconda\\lib\\site-packages\\matplotlib\\backends\\backend_agg.py:203: RuntimeWarning: Glyph 119898 missing from current font.\n",
      "  font.set_text(s, 0, flags=flags)\n"
     ]
    },
    {
     "data": {
      "image/png": "[encoded data removed]",
      "text/plain": [
       "<Figure size 432x288 with 1 Axes>"
      ]
     },
     "metadata": {
      "needs_background": "light"
     },
     "output_type": "display_data"
    }
   ],
   "source": [
    "# Your code here...\n",
    "\n",
    "from scipy.optimize import curve_fit\n",
    "\n",
    "def theory (m,a):\n",
    "    L = (m)**a\n",
    "    return L\n",
    "a0 = 4\n",
    "sigTot= np.sqrt((4*mass**3*mass_er)**2+lum_er**2)\n",
    "popt, pcov = curve_fit(theory, mass, lum, a0, sigma=sigTot, absolute_sigma=True)\n",
    "print(popt)\n",
    "print(pcov)\n",
    "a1=popt[0]\n",
    "\n",
    "plt.errorbar(mass,lum,c='black',yerr=lum_er,xerr=mass_er,fmt='.', elinewidth = 2, ecolor='black')\n",
    "x=np.linspace(np.min(mass),np.max(mass),100)\n",
    "theoryL=theory(mass,a1)\n",
    "theory_chi = theory(x,a1)\n",
    "plt.xscale('log'),plt.yscale('log')\n",
    "plt.scatter(mass,lum,s = 5, c='red')\n",
    "plt.xlabel('Mass (𝑚⊙)')\n",
    "plt.ylabel('Luminasity (W)')\n",
    "plt.plot(x,theory_chi)\n",
    "\n",
    "\n",
    "\n"
   ]
  },
  {
   "cell_type": "markdown",
   "metadata": {},
   "source": [
    "_________________________________________________________________________________________\n",
    "<font color='red'>Write down your observations here...\n",
    "\n",
    "\n",
    "__________________________________________________________________________________________\n",
    "Part 4:\n",
    "\n",
    "Now we want to look at the risiduals, or difference betwee Data and Fit.\n",
    "- Make a figure with 2 subplots (top and bottom) both versus mass\n",
    "- top subplot, plot (Data-Fit)/sigma vs mass (without errorbars)\n",
    "- bottom subplot, plot (Data-Fit)/Data vs mass (with errorbars)\n",
    "\n",
    "________________________________________________________________________________________"
   ]
  },
  {
   "cell_type": "code",
   "execution_count": 96,
   "metadata": {},
   "outputs": [
    {
     "data": {
      "text/plain": [
       "<ErrorbarContainer object of 3 artists>"
      ]
     },
     "execution_count": 96,
     "metadata": {},
     "output_type": "execute_result"
    },
    {
     "data": {
      "image/png": "[encoded data removed]",
      "text/plain": [
       "<Figure size 432x288 with 2 Axes>"
      ]
     },
     "metadata": {
      "needs_background": "light"
     },
     "output_type": "display_data"
    }
   ],
   "source": [
    "risiduals = lum - theoryL\n",
    "fig, axs = plt.subplots(2)\n",
    "plt.xscale('log')\n",
    "dRdL=(mass**popt)/(theoryL**2)\n",
    "dRdm=(popt*mass**(popt-1))/(theoryL)\n",
    "sigR=np.sqrt((dRdL**2)*(lum_er**2)+(dRdm**2)*(mass_er**2))\n",
    "axs[0].scatter(mass,(risiduals/sigTot),s=4)\n",
    "axs[1].errorbar(mass,(risiduals/lum),c='black',yerr=sigR,xerr=mass_er,fmt='.', elinewidth = 1, ecolor='black')\n",
    "\n",
    "\n"
   ]
  },
  {
   "cell_type": "markdown",
   "metadata": {},
   "source": [
    "___________________________________________________________________________________\n",
    "<font color='red'>Observations & Summary...\n",
    "\n",
    "\n",
    "____________________________________________________________________________________"
   ]
  },
  {
   "cell_type": "code",
   "execution_count": null,
   "metadata": {},
   "outputs": [],
   "source": []
  }
 ],
 "metadata": {
  "kernelspec": {
   "display_name": "Python 3 (ipykernel)",
   "language": "python",
   "name": "python3"
  },
  "language_info": {
   "codemirror_mode": {
    "name": "ipython",
    "version": 3
   },
   "file_extension": ".py",
   "mimetype": "text/x-python",
   "name": "python",
   "nbconvert_exporter": "python",
   "pygments_lexer": "ipython3",
   "version": "3.9.7"
  }
 },
 "nbformat": 4,
 "nbformat_minor": 4
}
